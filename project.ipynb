{
  "nbformat": 4,
  "nbformat_minor": 0,
  "metadata": {
    "colab": {
      "provenance": []
    },
    "kernelspec": {
      "name": "python3",
      "display_name": "Python 3"
    },
    "language_info": {
      "name": "python"
    }
  },
  "cells": [
    {
      "cell_type": "code",
      "source": [
        "# Import necessary libraries\n",
        "import librosa\n",
        "import pandas as pd\n",
        "import numpy as np\n",
        "from sklearn.model_selection import train_test_split\n",
        "from sklearn.ensemble import RandomForestClassifier\n",
        "from sklearn.metrics import accuracy_score\n",
        "import matplotlib.pyplot as plt\n",
        "\n",
        "# Step 1: Data Preparation\n",
        "\n",
        "# Load your audio dataset or use a sample dataset\n",
        "# You can adapt this code to load your dataset\n",
        "\n",
        "# Sample dataset with two classes: \"happy\" and \"sad\"\n",
        "# Replace this with your dataset\n",
        "data = {\n",
        "    \"audio_file\": [\"happy_1.wav\", \"happy_2.wav\", \"sad_1.wav\", \"sad_2.wav\"],\n",
        "    \"emotion\": [\"happy\", \"happy\", \"sad\", \"sad\"]\n",
        "}\n",
        "\n",
        "df = pd.DataFrame(data)\n",
        "\n",
        "# Step 2: Feature Extraction\n",
        "\n",
        "def extract_features(audio_file):\n",
        "    y, sr = librosa.load(audio_file, sr=None)  # Load audio file\n",
        "    mfccs = librosa.feature.mfcc(y=y, sr=sr, n_mfcc=13)  # Extract MFCC features\n",
        "    mean_mfccs = np.mean(mfccs, axis=1)  # Calculate mean of MFCCs\n",
        "    return mean_mfccs\n",
        "\n",
        "df[\"features\"] = df[\"audio_file\"].apply(extract_features)\n",
        "\n",
        "# Step 3: Model Training\n",
        "\n",
        "X = np.vstack(df[\"features\"])\n",
        "y = df[\"emotion\"]\n",
        "\n",
        "X_train, X_test, y_train, y_test = train_test_split(X, y, test_size=0.2, random_state=42)\n",
        "\n",
        "# Create and train a Random Forest Classifier\n",
        "clf = RandomForestClassifier(n_estimators=100, random_state=42)\n",
        "clf.fit(X_train, y_train)\n",
        "\n",
        "# Step 4: Emotion Prediction\n",
        "\n",
        "y_pred = clf.predict(X_test)\n",
        "accuracy = accuracy_score(y_test, y_pred)\n",
        "print(f\"Accuracy: {accuracy * 100:.2f}%\")\n",
        "\n",
        "# Step 5: Results Visualization\n",
        "\n",
        "# You can create a line chart to visualize the predicted emotions and Talk Speed.\n",
        "# However, for Talk Speed, you would need a separate approach and dataset.\n",
        "\n",
        "# Plot the emotions\n",
        "plt.plot(df[\"audio_file\"], df[\"emotion\"], marker='o')\n",
        "plt.xlabel(\"Audio File\")\n",
        "plt.ylabel(\"Emotion\")\n",
        "plt.title(\"Emotion Prediction\")\n",
        "plt.xticks(rotation=45)\n",
        "plt.show()\n"
      ],
      "metadata": {
        "id": "cMVR1e-wAFC9"
      },
      "execution_count": null,
      "outputs": []
    }
  ]
}